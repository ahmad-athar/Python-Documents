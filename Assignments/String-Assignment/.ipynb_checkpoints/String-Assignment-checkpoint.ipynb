{
 "cells": [
  {
   "cell_type": "code",
   "execution_count": 1,
   "metadata": {},
   "outputs": [
    {
     "data": {
      "text/plain": [
       "['__add__',\n",
       " '__class__',\n",
       " '__contains__',\n",
       " '__delattr__',\n",
       " '__dir__',\n",
       " '__doc__',\n",
       " '__eq__',\n",
       " '__format__',\n",
       " '__ge__',\n",
       " '__getattribute__',\n",
       " '__getitem__',\n",
       " '__getnewargs__',\n",
       " '__gt__',\n",
       " '__hash__',\n",
       " '__init__',\n",
       " '__init_subclass__',\n",
       " '__iter__',\n",
       " '__le__',\n",
       " '__len__',\n",
       " '__lt__',\n",
       " '__mod__',\n",
       " '__mul__',\n",
       " '__ne__',\n",
       " '__new__',\n",
       " '__reduce__',\n",
       " '__reduce_ex__',\n",
       " '__repr__',\n",
       " '__rmod__',\n",
       " '__rmul__',\n",
       " '__setattr__',\n",
       " '__sizeof__',\n",
       " '__str__',\n",
       " '__subclasshook__',\n",
       " 'capitalize',\n",
       " 'casefold',\n",
       " 'center',\n",
       " 'count',\n",
       " 'encode',\n",
       " 'endswith',\n",
       " 'expandtabs',\n",
       " 'find',\n",
       " 'format',\n",
       " 'format_map',\n",
       " 'index',\n",
       " 'isalnum',\n",
       " 'isalpha',\n",
       " 'isascii',\n",
       " 'isdecimal',\n",
       " 'isdigit',\n",
       " 'isidentifier',\n",
       " 'islower',\n",
       " 'isnumeric',\n",
       " 'isprintable',\n",
       " 'isspace',\n",
       " 'istitle',\n",
       " 'isupper',\n",
       " 'join',\n",
       " 'ljust',\n",
       " 'lower',\n",
       " 'lstrip',\n",
       " 'maketrans',\n",
       " 'partition',\n",
       " 'replace',\n",
       " 'rfind',\n",
       " 'rindex',\n",
       " 'rjust',\n",
       " 'rpartition',\n",
       " 'rsplit',\n",
       " 'rstrip',\n",
       " 'split',\n",
       " 'splitlines',\n",
       " 'startswith',\n",
       " 'strip',\n",
       " 'swapcase',\n",
       " 'title',\n",
       " 'translate',\n",
       " 'upper',\n",
       " 'zfill']"
      ]
     },
     "execution_count": 1,
     "metadata": {},
     "output_type": "execute_result"
    }
   ],
   "source": [
    "# this assignment tests and explains methods of the string data type\n",
    "a = \"Ahmad Mustafa Athar\"\n",
    "dir(a)"
   ]
  },
  {
   "cell_type": "code",
   "execution_count": 2,
   "metadata": {},
   "outputs": [
    {
     "name": "stdout",
     "output_type": "stream",
     "text": [
      "Ahmad mustafa athar\n",
      "ahmad mustafa athar\n",
      "ahmad mustafa athar\n",
      "AHMAD MUSTAFA ATHAR\n",
      "aHMAD mUSTAFA aTHAR\n",
      "Ahmad Mustafa Athar\n"
     ]
    }
   ],
   "source": [
    "# capitalize only turns first letter of the string to uppercase\n",
    "a = \"Ahmad Mustafa Athar\"\n",
    "b = a.capitalize()\n",
    "print(b)\n",
    "\n",
    "# casefold converts the string to aggressive lowercase\n",
    "a = \"Ahmad Mustafa Athar\"\n",
    "b = a.casefold()\n",
    "print(b)\n",
    "\n",
    "# lower converts the string to lowercase\n",
    "a = \"Ahmad Mustafa Athar\"\n",
    "b = a.lower()\n",
    "print(b)\n",
    "\n",
    "# upper converts the string to uppercase\n",
    "a = \"Ahmad Mustafa Athar\"\n",
    "b = a.upper()\n",
    "print(b)\n",
    "\n",
    "# swapcase inverts the case of the string character\n",
    "a = \"Ahmad Mustafa Athar\"\n",
    "b = a.swapcase()\n",
    "print(b)\n",
    "\n",
    "# title converts the first letter of every word to uppercase\n",
    "a = \"ahmad mustafa athar\"\n",
    "b = a.title()\n",
    "print(b)"
   ]
  },
  {
   "cell_type": "code",
   "execution_count": 3,
   "metadata": {},
   "outputs": [
    {
     "name": "stdout",
     "output_type": "stream",
     "text": [
      "***************Ahmad Mustafa Athar****************\n",
      "Ahmad Mustafa Athar*******************************\n",
      "*******************************Ahmad Mustafa Athar\n"
     ]
    }
   ],
   "source": [
    "# center produces a new string with the specified length as first argument, and fills the left and right equally with the provided character as second argument\n",
    "a = \"Ahmad Mustafa Athar\"\n",
    "b = a.center(50,\"*\")\n",
    "print(b)\n",
    "\n",
    "# ljust gives a new string with given width, using old string as left adjusted and character padding (default is space)\n",
    "a = \"Ahmad Mustafa Athar\"\n",
    "b = a.ljust(50, \"*\")\n",
    "print(b)\n",
    "\n",
    "# rjust gives a new string with given width, using old string as right adjusted and character padding (default is space)\n",
    "a = \"Ahmad Mustafa Athar\"\n",
    "b = a.rjust(50, \"*\")\n",
    "print(b)"
   ]
  },
  {
   "cell_type": "code",
   "execution_count": 4,
   "metadata": {},
   "outputs": [
    {
     "name": "stdout",
     "output_type": "stream",
     "text": [
      "4\n"
     ]
    }
   ],
   "source": [
    "# count gives the number of occurances of provided substring in the main string, it is case sensitive\n",
    "a = \"Ahmad Mustafa Athar\"\n",
    "b = a.count(\"a\")\n",
    "print(b)"
   ]
  },
  {
   "cell_type": "code",
   "execution_count": 5,
   "metadata": {},
   "outputs": [
    {
     "name": "stdout",
     "output_type": "stream",
     "text": [
      "b'Ahmad Mustafa Athar'\n"
     ]
    }
   ],
   "source": [
    "# encode can convert the string to specified encoding and can take multiple error handling options\n",
    "a = \"Ahmad Mustafa Athar\"\n",
    "b = a.encode(\"ascii\")\n",
    "print(b)"
   ]
  },
  {
   "cell_type": "code",
   "execution_count": 6,
   "metadata": {},
   "outputs": [
    {
     "name": "stdout",
     "output_type": "stream",
     "text": [
      "True\n",
      "True\n"
     ]
    }
   ],
   "source": [
    "# endswith tests if the string ends with the provided substring, returns boolean\n",
    "a = \"Ahmad Mustafa Athar\"\n",
    "b = a.endswith(\"ar\")\n",
    "print(b)\n",
    "\n",
    "# startswith tests if the string starts with the provided substring, returns boolean\n",
    "a = \"Ahmad Mustafa Athar\"\n",
    "b = a.startswith(\"Ah\")\n",
    "print(b)"
   ]
  },
  {
   "cell_type": "code",
   "execution_count": 7,
   "metadata": {},
   "outputs": [
    {
     "name": "stdout",
     "output_type": "stream",
     "text": [
      "Ahmad     Mustafa   Athar\n"
     ]
    }
   ],
   "source": [
    "# expandtabs substitutes \\t tab character in string and places custom tab stops given as argument\n",
    "a = \"Ahmad\\tMustafa\\tAthar\"\n",
    "b = a.expandtabs(10)\n",
    "print(b)"
   ]
  },
  {
   "cell_type": "code",
   "execution_count": 8,
   "metadata": {},
   "outputs": [
    {
     "name": "stdout",
     "output_type": "stream",
     "text": [
      "10\n",
      "17\n"
     ]
    }
   ],
   "source": [
    "# find searches for the substring argument in main string and gives position as output, it is case sensitive, and can also take slice of string\n",
    "# gives -1 if value not found\n",
    "a = \"Ahmad Mustafa Athar\"\n",
    "b = a.find(\"a\", 4, 11)\n",
    "print(b)\n",
    "\n",
    "# rfind is similar to find, but searches from the right and gives the highest occurance in the string or its slice\n",
    "# gives -1 if value not found\n",
    "a = \"Ahmad Mustafa Athar\"\n",
    "b = a.rfind(\"a\", 4, 18)\n",
    "print(b)"
   ]
  },
  {
   "cell_type": "code",
   "execution_count": 9,
   "metadata": {},
   "outputs": [
    {
     "name": "stdout",
     "output_type": "stream",
     "text": [
      "Ahmad Mustafa Athar\n",
      "Ahmad Mustafa Athar\n"
     ]
    }
   ],
   "source": [
    "# format can be used to produce a formatted string output containing substitutions for curly brackets that can have strings including methods\n",
    "a = \"Ahmad Mustafa {}\"\n",
    "b = a.format(\"Athar\")\n",
    "print(b)\n",
    "\n",
    "# format_map is similar to format, but uses a dictionary for substitution in the formatted string curly brackets\n",
    "a = \"{b} {c} {d}\"\n",
    "e = {'d':\"Athar\", 'b':\"Ahmad\", 'c':\"Mustafa\"}\n",
    "d = a.format_map(e)\n",
    "print(d)"
   ]
  },
  {
   "cell_type": "code",
   "execution_count": 10,
   "metadata": {},
   "outputs": [
    {
     "name": "stdout",
     "output_type": "stream",
     "text": [
      "10\n",
      "17\n"
     ]
    }
   ],
   "source": [
    "# index searches for the substring argument in main string and gives position as output, it is case sensitive, and can also take slice of string\n",
    "# gives value error if not found\n",
    "a = \"Ahmad Mustafa Athar\"\n",
    "b = a.index(\"a\", 4, 11)\n",
    "print(b)\n",
    "\n",
    "# rindex is similar to index but searches from the right\n",
    "a = \"Ahmad Mustafa Athar\"\n",
    "b = a.rindex(\"a\", 4, 18)\n",
    "print(b)"
   ]
  },
  {
   "cell_type": "code",
   "execution_count": 11,
   "metadata": {},
   "outputs": [
    {
     "name": "stdout",
     "output_type": "stream",
     "text": [
      "True\n",
      "True\n",
      "True\n",
      "True\n",
      "True\n",
      "True\n",
      "True\n",
      "True\n",
      "True\n",
      "True\n",
      "True\n",
      "True\n"
     ]
    }
   ],
   "source": [
    "# isalnum returns true if string is alphanumeric\n",
    "a = \"Ahmad123\"\n",
    "b = a.isalnum()\n",
    "print(b)\n",
    "\n",
    "# isalpha returns true if string is alphabetic\n",
    "a = \"Ahmad\"\n",
    "b = a.isalpha()\n",
    "print(b)\n",
    "\n",
    "# isascii returns true if string is ascii\n",
    "a = \"Ahmad123\"\n",
    "b = a.isascii()\n",
    "print(b)\n",
    "\n",
    "# isdecimal returns true if string is decimal number\n",
    "a = \"123\"\n",
    "b = a.isdecimal()\n",
    "print(b)\n",
    "\n",
    "# isdigit returns true if string is a digit character\n",
    "a = \"123\"\n",
    "b = a.isdigit()\n",
    "print(b)\n",
    "\n",
    "# isidentifier returns true if string is a valid identifier\n",
    "a = \"a123\"\n",
    "b = a.isidentifier()\n",
    "print(b)\n",
    "\n",
    "# islower returns true if string is in lower case\n",
    "a = \"ahmad\"\n",
    "b = a.islower()\n",
    "print(b)\n",
    "\n",
    "# isnumeric returns true if string is numeric\n",
    "a = \"123\"\n",
    "b = a.isnumeric()\n",
    "print(b)\n",
    "\n",
    "# isprintable returns true if string contains all literals thar are printable\n",
    "a = \"Ahmad Mustafa Athar 123\"\n",
    "b = a.isprintable()\n",
    "print(b)\n",
    "\n",
    "# isspace returns true if string is whitespace\n",
    "a = \" \"\n",
    "b = a.isspace()\n",
    "print(b)\n",
    "\n",
    "# istitle returns true if string is in title case\n",
    "a = \"Ahmad\"\n",
    "b = a.istitle()\n",
    "print(b)\n",
    "\n",
    "# isupper returns true if string is in uppercase\n",
    "a = \"AHMAD\"\n",
    "b = a.isupper()\n",
    "print(b)\n"
   ]
  },
  {
   "cell_type": "code",
   "execution_count": 12,
   "metadata": {},
   "outputs": [
    {
     "name": "stdout",
     "output_type": "stream",
     "text": [
      "Ahmad Mustafa Athar\n"
     ]
    }
   ],
   "source": [
    "# join gives concatenated output of string list, tuple etc using the input string\n",
    "a = [\"Ahmad\", \"Mustafa\", \"Athar\"]\n",
    "b = \" \".join(a)\n",
    "print(b)"
   ]
  },
  {
   "cell_type": "code",
   "execution_count": 13,
   "metadata": {},
   "outputs": [
    {
     "name": "stdout",
     "output_type": "stream",
     "text": [
      " Mustafa Athar\n",
      "Ahmad Mustafa \n",
      "hmad Mustafa Atha\n"
     ]
    }
   ],
   "source": [
    "# lstrip removes the given substring from left side of string, default is whitespace\n",
    "a = \"Ahmad Mustafa Athar\"\n",
    "b = a.lstrip(\"Ahmad3432\")\n",
    "print(b)\n",
    "\n",
    "# rstrip removes the given substring from right side of string, default is whitespace\n",
    "a = \"Ahmad Mustafa Athar\"\n",
    "b = a.rstrip(\"Athar324\")\n",
    "print(b)\n",
    "\n",
    "# strip removes the given substring from left or right in string, default is whitespace\n",
    "a = \"Ahmad Mustafa Athar\"\n",
    "b = a.strip(\"Ar\")\n",
    "print(b)"
   ]
  },
  {
   "cell_type": "code",
   "execution_count": 25,
   "metadata": {},
   "outputs": [
    {
     "name": "stdout",
     "output_type": "stream",
     "text": [
      "{97: 100, 98: 101, 99: 102}\n",
      "{97: 49, 98: None, 99: None, 100: None}\n",
      "def\n"
     ]
    }
   ],
   "source": [
    "# maketrans creates a dictionary of provided strings using their ascii translation\n",
    "a = \"abc\" # ascii of a is 97, b is 98 and c is 99\n",
    "b = \"def\" # ascii of d is 100, e is 101 and f is 102\n",
    "c = a.maketrans(a,b)\n",
    "print(c)\n",
    "\n",
    "# it can also take a third string input and remove mapping of repeats and adding the new\n",
    "d = \"abc\" # ascii of a is 97, b is 98 and c is 99\n",
    "e = \"123\" # ascii of d is 100, e is 101 and f is 102\n",
    "f = \"bcd\"\n",
    "g = d.maketrans(d, e, f)\n",
    "print(g)\n",
    "\n",
    "# translate can be used to translate a string to the mapping created using maketrans\n",
    "h = \"abc\"\n",
    "i = h.translate(c)\n",
    "print(i)"
   ]
  },
  {
   "cell_type": "code",
   "execution_count": 15,
   "metadata": {},
   "outputs": [
    {
     "name": "stdout",
     "output_type": "stream",
     "text": [
      "('Ahm', 'a', 'd Mustafa Athar')\n",
      "('Ahmad Mustafa Ath', 'a', 'r')\n"
     ]
    }
   ],
   "source": [
    "# partition creates a tuple of three strings, the separator provided as argument, and the left and right part of string left after removal of first occurance of separator\n",
    "a = \"Ahmad Mustafa Athar\"\n",
    "b = a.partition(\"a\")\n",
    "print(b)\n",
    "\n",
    "# rpartition is similar to partition, but uses the rightmost occurance of the separator to create the tuple\n",
    "a = \"Ahmad Mustafa Athar\"\n",
    "b = a.rpartition(\"a\")\n",
    "print(b)"
   ]
  },
  {
   "cell_type": "code",
   "execution_count": 16,
   "metadata": {},
   "outputs": [
    {
     "name": "stdout",
     "output_type": "stream",
     "text": [
      "Ahmzd Mustzfa Athar\n"
     ]
    }
   ],
   "source": [
    "# replace can be used to substitute a provided substring with a new substring, optional number of occurances can be given\n",
    "a = \"Ahmad Mustafa Athar\"\n",
    "b = a.replace(\"a\", \"z\", 2)\n",
    "print(b)"
   ]
  },
  {
   "cell_type": "code",
   "execution_count": 17,
   "metadata": {},
   "outputs": [
    {
     "name": "stdout",
     "output_type": "stream",
     "text": [
      "['Ahmad', 'Mustafa', 'Athar']\n",
      "['Ahm', 'd Must', 'f', ' Ath', 'r']\n",
      "['Ahm', 'd Must', 'fa Athar']\n",
      "['Ahmad Mustaf', ' Ath', 'r']\n",
      "['Ahmad ', ' Mustafa ', ' Athar']\n"
     ]
    }
   ],
   "source": [
    "# split can be used to split a string into a list using the provided separator(excluded from output)\n",
    "# default separator is a space; optional split count can be specified\n",
    "a = \"Ahmad Mustafa Athar\"\n",
    "b = a.split()\n",
    "c = a.split(\"a\")\n",
    "d = a.split(\"a\", 2)\n",
    "print(b)\n",
    "print(c)\n",
    "print(d)\n",
    "\n",
    "# rsplit functions similar to split mostly, only if split count is specied the right most splits are done\n",
    "a = \"Ahmad Mustafa Athar\"\n",
    "e = a.rsplit(\"a\", 2)\n",
    "print(e)\n",
    "\n",
    "# splitlines is similar to split, but uses line breaks as separators\n",
    "a = \"Ahmad \\n Mustafa \\r Athar\"\n",
    "b = a.splitlines()\n",
    "print(b)"
   ]
  },
  {
   "cell_type": "code",
   "execution_count": 33,
   "metadata": {},
   "outputs": [
    {
     "name": "stdout",
     "output_type": "stream",
     "text": [
      "00123 -0123\n"
     ]
    }
   ],
   "source": [
    " # zfill can be used for padding zeros to the left of a string, if left has a - then padding is done after it and the length is specified as argument\n",
    "a = \"123\"\n",
    "b = \"-123\"\n",
    "c = a.zfill(5)\n",
    "d = b.zfill(5)\n",
    "print(c, d)"
   ]
  },
  {
   "cell_type": "code",
   "execution_count": 3,
   "metadata": {},
   "outputs": [
    {
     "name": "stdout",
     "output_type": "stream",
     "text": [
      "-574.0\n",
      "-459.9126050013147\n"
     ]
    }
   ],
   "source": [
    "a = 1 + 2 - 3 * 4 ** 5 / 6 - 7 * ( 8 % 9 ) - 10 - 11 + 12 + 13 / 14 / 15 * 16 * 17 % 18 // 19 / 20\n",
    "# 574.0\n",
    "b = 20 / 21 * 22 + 23 - ( 24 * 25) + 26 - 27 % 28 * 29 // 30 / 31 + 32 + 33 - 34 - 35 / 36 / 37 % 38 ** 39 + 40\n",
    "# -459.9\n",
    "print(a)\n",
    "print(b)"
   ]
  },
  {
   "cell_type": "code",
   "execution_count": null,
   "metadata": {},
   "outputs": [],
   "source": []
  }
 ],
 "metadata": {
  "kernelspec": {
   "display_name": "Python 3",
   "language": "python",
   "name": "python3"
  },
  "language_info": {
   "codemirror_mode": {
    "name": "ipython",
    "version": 3
   },
   "file_extension": ".py",
   "mimetype": "text/x-python",
   "name": "python",
   "nbconvert_exporter": "python",
   "pygments_lexer": "ipython3",
   "version": "3.7.4"
  }
 },
 "nbformat": 4,
 "nbformat_minor": 2
}
